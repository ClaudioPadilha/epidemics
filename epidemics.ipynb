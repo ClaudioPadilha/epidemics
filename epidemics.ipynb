{
 "cells": [
  {
   "cell_type": "markdown",
   "metadata": {},
   "source": [
    "# Epidemics model - by a physicist\n",
    "\n",
    "As many nerds at this moment, I turn myself to coding and models, to at least try to spread the key ideas about the dynamics of the currend COVID-19 pandemia. I have come up with a very simple model, where blue balls, representing healty people and red balls, representing sick people interact inside of a square world, infecting each other given a probability of infection. After infection, for each timestep there is a probability of the sick person to die or to recover and gain immunity. \n",
    "\n",
    "Please feel free to play with the parameters and check out the evolution of the number of healty, sick, recovered and deceased people in the population. \n",
    "\n",
    "Notice that for very small probabilities of cure and death, people are allowed to wander around and spread the infection, leading to an exponential increase in the number of sick people at some point. The peak in the curve of sick people is quite large in comparison to the total population, and it gets there quite fast. Thus, I would say that the main goal of this notebook is to spread the word about how important it is to stay at home (and decrease the mobility parameter).\n",
    "\n",
    "Next steps are: \n",
    "\n",
    "* set up a limit for the health system, which one saturated with sick people, will no longer be able to help people recover, increasing the death probability.\n",
    "* store an 'age' parameter for each person and collect the mortality rate for each group, taking the model closer to reality\n",
    "* implement the *severely ill* condition, where mobility is reduced. This reflects the fact that once the person is aware of his or her condition, they stop going around and stay at home or a hospital"
   ]
  },
  {
   "cell_type": "markdown",
   "metadata": {},
   "source": [
    "## Preamble\n",
    "\n",
    "Import libraries and declare global variables here. Feel free to play around with the model parameters."
   ]
  },
  {
   "cell_type": "code",
   "execution_count": 1,
   "metadata": {},
   "outputs": [],
   "source": [
    "import numpy as np\n",
    "import matplotlib.pyplot as plt\n",
    "import matplotlib\n",
    "import ipywidgets as widgets\n",
    "from ipywidgets import interact\n",
    "%matplotlib inline\n",
    "\n",
    "# global probabilities of infection, dying and being cured\n",
    "p_infect = 0.7 # <- change this\n",
    "p_die = 0.005  # <- change this\n",
    "p_cure = 0.01  # <- change this\n",
    "\n",
    "# limits of the simulation box and population size\n",
    "l = 2 # <- change this\n",
    "xi, xf = -l, l\n",
    "yi, yf = -l, l\n",
    "n = 200 # <- change this\n",
    "\n",
    "# number of steps in dynamics, stepsize and interaction radius\n",
    "maxiter = 300 # <- change this\n",
    "dt = 0.1 # <- change this\n",
    "eps = 0.15 # <- change this\n",
    "\n",
    "# mobility parameter, it is a measure of social interaction\n",
    "v0 = 0.5 # <- change this"
   ]
  },
  {
   "cell_type": "markdown",
   "metadata": {},
   "source": [
    "## Class pessoa\n",
    "\n",
    "Here I create a class `pessoa` (people in portuguese) where I store all the history of the dynamics in numpy arrays. There is no need to change this."
   ]
  },
  {
   "cell_type": "code",
   "execution_count": 2,
   "metadata": {},
   "outputs": [],
   "source": [
    "# a class for a person in the simulation. It encloses the position (x, y),\n",
    "# velocities (vx, vy), and health state along the time of the simulation\n",
    "class pessoa:\n",
    "    def __init__(self, x, y, vx, vy):\n",
    "        self.x = np.zeros(maxiter, dtype=float)\n",
    "        self.x[0] = x\n",
    "        self.y = np.zeros(maxiter, dtype=float)\n",
    "        self.y[0] = y\n",
    "        self.vx = np.zeros(maxiter, dtype=float)\n",
    "        self.vx[0] = vx\n",
    "        self.vy = np.zeros(maxiter, dtype=float)\n",
    "        self.vy[0] = vy\n",
    "        self.health = np.zeros(maxiter, dtype=int)\n",
    "    \n",
    "    # scalar velocity of a person\n",
    "    def get_v(self, step):\n",
    "        return np.sqrt(self.vx[step] ** 2 + self.vy[step] ** 2)\n",
    "    \n",
    "    # angle of interaction. It is used to draw new random velocities \n",
    "    # after a social interaction or after bumping in the box edges\n",
    "    def get_theta(self, p, step):\n",
    "        return np.arctan((p.y[step] - self.y[step]) / (p.x[step] - self.x[step])) + np.pi\n",
    "    \n",
    "    # distance between two people\n",
    "    def get_dist(self, p, step):\n",
    "        return np.sqrt((self.x[step] - p.x[step]) ** 2 + (self.y[step] - p.y[step]) ** 2)\n",
    "    \n",
    "    # asks if the person is still healty\n",
    "    def healty(self, step):\n",
    "        if self.health[step] == 0:\n",
    "            return True\n",
    "        else:\n",
    "            return False\n",
    "    \n",
    "    # asks if the person is sick (1) or seriously sick (2)\n",
    "    def sick(self, step):\n",
    "        if self.health[step] == 1 or self.health[step] == 2:\n",
    "            return True\n",
    "        else:\n",
    "            return False\n",
    "    \n",
    "    # asks if the person acquired immunity after being infected, aka cured\n",
    "    def cured(self, step):\n",
    "        if self.health[step] == 3:\n",
    "            return True\n",
    "        else:\n",
    "            return False\n",
    "    \n",
    "    # asks if the person did not survive the infection\n",
    "    def dead(self, step):\n",
    "        if self.health[step] > 3:\n",
    "            return True\n",
    "        else:\n",
    "            return False"
   ]
  },
  {
   "cell_type": "markdown",
   "metadata": {},
   "source": [
    "## Start of the model\n",
    "\n",
    "Initialization of the population in a list and a single person is set sick."
   ]
  },
  {
   "cell_type": "code",
   "execution_count": 3,
   "metadata": {},
   "outputs": [],
   "source": [
    "# population is initialized in a single list       \n",
    "pop = [pessoa(np.random.uniform(xi, xf), \n",
    "          np.random.uniform(yi, yf),\n",
    "          np.random.uniform(-v0, v0),\n",
    "          np.random.uniform(-v0, v0)) for i in range(n)]\n",
    "\n",
    "# single infected person in the population at the beginning\n",
    "pop[0].health[0:] = 1"
   ]
  },
  {
   "cell_type": "markdown",
   "metadata": {},
   "source": [
    "## Running the dynamics\n",
    "\n",
    "Here is the core of the thing. Running the dynamics with large populations (> 300) or too many timesteps (> 500) might require more computing power that most people have at home."
   ]
  },
  {
   "cell_type": "code",
   "execution_count": 4,
   "metadata": {
    "scrolled": true
   },
   "outputs": [],
   "source": [
    "# here I run the dynamics\n",
    "for i in range(maxiter - 1):\n",
    "    # speed update. There are some distinct situations here\n",
    "    for j, p in enumerate(pop):\n",
    "        # first check if the person is still alive\n",
    "        if (not p.dead(i)):\n",
    "            v = p.get_v(i)\n",
    "            \n",
    "            # (1) two people meed (aka bouncing balls)\n",
    "            for k, p2 in enumerate(pop[:j] + pop[j + 1:]):\n",
    "                if p.get_dist(p2, i) < eps and (not p2.dead(i)):\n",
    "                    q = np.random.normal(p.get_theta(p2, i), np.pi / 6)\n",
    "                    p.vx[i + 1] = v * np.cos(q)\n",
    "                    p.vy[i + 1] = v * np.sin(q)  \n",
    "                    # decide if one infects the other\n",
    "                    if p.sick(i) and (not p2.sick(i)) and (not p2.cured(i)) and (np.random.uniform() < p_infect):\n",
    "                        p2.health[i + 1:] = 1\n",
    "\n",
    "            # (2) person bounce on the left wall of the box\n",
    "            if p.x[i] < xi + eps:\n",
    "                t = np.random.normal(0, np.pi / 6)\n",
    "                p.vx[i + 1] = v * np.cos(t)\n",
    "                p.vy[i + 1] = v * np.sin(t)\n",
    "            # (3) bounce on the right wall\n",
    "            elif p.x[i] > xf - eps:\n",
    "                t = np.random.normal(np.pi, np.pi / 6)\n",
    "                p.vx[i + 1] = v * np.cos(t)\n",
    "                p.vy[i + 1] = v * np.sin(t)\n",
    "            # (4) bounce on the lower wall\n",
    "            elif p.y[i] < yi + eps:\n",
    "                t = np.random.normal(np.pi / 2, np.pi / 6)\n",
    "                p.vx[i + 1] = v * np.cos(t)\n",
    "                p.vy[i + 1] = v * np.sin(t)\n",
    "            # (5) bounce on the upper wall\n",
    "            elif p.y[i] > yf - eps:\n",
    "                t = np.random.normal(-np.pi / 2, np.pi / 6)\n",
    "                p.vx[i + 1] = v * np.cos(t)\n",
    "                p.vy[i + 1] = v * np.sin(t)\n",
    "            # (6) does not bounce at all\n",
    "            else:\n",
    "                p.vx[i + 1] = p.vx[i]\n",
    "                p.vy[i + 1] = p.vy[i]\n",
    "\n",
    "    # update of positions and health status: if person is sick, he or she can die or recover\n",
    "    for p in pop:\n",
    "        p.x[i + 1] = p.x[i] + dt * p.vx[i]\n",
    "        p.y[i + 1] = p.y[i] + dt * p.vy[i]\n",
    "        # random number in (0, 1) to decide person's fate\n",
    "        w = np.random.uniform()\n",
    "        # he or she could die ...\n",
    "        if p.sick(i) and (w < p_die):\n",
    "            p.health[i:] = 4\n",
    "            p.vx[i:], p.vy[i:] = 0.0, 0.0\n",
    "        # ... or recover\n",
    "        elif p.sick(i) and (w >= p_die) and (w < p_cure + p_die):\n",
    "            p.health[i:] = 3\n",
    "    "
   ]
  },
  {
   "cell_type": "markdown",
   "metadata": {},
   "source": [
    "## Checking results 1 - read records\n",
    "\n",
    "We can check all records and see who and when got sick, recovered or died."
   ]
  },
  {
   "cell_type": "code",
   "execution_count": null,
   "metadata": {
    "scrolled": false
   },
   "outputs": [],
   "source": [
    "# this cell is one way of checking results for each person and each timestep\n",
    "dict_h = {0 : 'hlty', 1 : 'sick', 3 : 'curd', 4 : 'dead'}\n",
    "\n",
    "@interact(k=(0, maxiter - 10, 10), j=(0, n - 1))\n",
    "def show_results(k, j):\n",
    "    print('person[{:3d}]'.format(j))\n",
    "    for i in range(k, k + 10):\n",
    "        print('Step # {:4d} [{:2s}]: {:6.3f}, {:6.3f}, {:6.3f}, {:6.3f}'.format(i, \n",
    "                                                                         dict_h[pop[j].health[i]], \n",
    "                                                                         pop[j].x[i], \n",
    "                                                                         pop[j].y[i], \n",
    "                                                                         pop[j].vx[i], \n",
    "                                                                         pop[j].vy[i]))"
   ]
  },
  {
   "cell_type": "markdown",
   "metadata": {},
   "source": [
    "## Checking results 2 - graphically\n",
    "\n",
    "Next two cells summarize the number of healty, sick, cured and dead people for each timestep and show the graphs of both the dynamics and the headcounts."
   ]
  },
  {
   "cell_type": "code",
   "execution_count": 5,
   "metadata": {},
   "outputs": [],
   "source": [
    "# here I summarise the number of healty, sick, cured and dead people for each timestep\n",
    "nh = np.zeros(maxiter, dtype=int) # healty\n",
    "ns = np.zeros(maxiter, dtype=int) # sick\n",
    "nc = np.zeros(maxiter, dtype=int) # cured\n",
    "nd = np.zeros(maxiter, dtype=int) # dead\n",
    "\n",
    "for i in range(maxiter):\n",
    "    for p in pop:\n",
    "        if p.healty(i):\n",
    "            nh[i] += 1\n",
    "        elif p.sick(i):\n",
    "            ns[i] += 1\n",
    "        elif p.cured(i):\n",
    "            nc[i] += 1\n",
    "        elif p.dead(i):\n",
    "            nd[i] += 1"
   ]
  },
  {
   "cell_type": "code",
   "execution_count": 6,
   "metadata": {},
   "outputs": [
    {
     "data": {
      "application/vnd.jupyter.widget-view+json": {
       "model_id": "20a44458adff48ccbd57506763576bd7",
       "version_major": 2,
       "version_minor": 0
      },
      "text/plain": [
       "interactive(children=(IntSlider(value=149, description='i', max=299), Output()), _dom_classes=('widget-interac…"
      ]
     },
     "metadata": {},
     "output_type": "display_data"
    }
   ],
   "source": [
    "# here I show the results graphically\n",
    "color_dict = {0 : 'blue', 1 : 'red', 3 : 'orange'}\n",
    "\n",
    "@interact(i=(0, maxiter - 1))\n",
    "\n",
    "def showme(i):\n",
    "    fig, ax = plt.subplots(figsize=(14,7), ncols=2, nrows=1)\n",
    "    # for each person I have to draw the corresponding dot in the first scatter plot\n",
    "    for p in pop:\n",
    "        # but not if the person is dead\n",
    "        if (not p.dead(i)):\n",
    "            ax[0].scatter(p.x[i], p.y[i], color=color_dict[p.health[i]], s=100)\n",
    "    ax[0].set_title('step # {:3d}'.format(i))\n",
    "    ax[0].set_xlim(xi, xf)\n",
    "    ax[0].set_ylim(yi, yf)\n",
    "    # clean up axis for better visualisation\n",
    "    ax[0].tick_params(axis='both',\n",
    "                which='both',\n",
    "                bottom=False,\n",
    "                top=False,\n",
    "                left=False,\n",
    "                right=False,\n",
    "                labelbottom=False,\n",
    "                labelleft=False)\n",
    "    \n",
    "    # the second plot shows how these numbers evolve in time\n",
    "    ax[1].plot(np.arange(i), nh[:i], lw=2, color='blue', label='{:3d} healty'.format(nh[i]))\n",
    "    ax[1].plot(np.arange(i), ns[:i], lw=2, color='red', label='{:3d} sick'.format(ns[i]))\n",
    "    ax[1].plot(np.arange(i), nc[:i], lw=2, color='orange', label='{:3d} cured'.format(nc[i]))\n",
    "    ax[1].plot(np.arange(i), nd[:i], lw=2, color='black', label='{:3d} dead'.format(nd[i]))\n",
    "    ax[1].set_xlim(0, maxiter - 1)\n",
    "    ax[1].set_ylim(0, n)\n",
    "    ax[1].set_xlabel('steps')\n",
    "    ax[1].set_ylabel('# of people')\n",
    "    ax[1].legend(loc='upper right')\n",
    "    \n",
    "    plt.tight_layout()"
   ]
  },
  {
   "cell_type": "code",
   "execution_count": null,
   "metadata": {},
   "outputs": [],
   "source": []
  }
 ],
 "metadata": {
  "kernelspec": {
   "display_name": "Python 3",
   "language": "python",
   "name": "python3"
  },
  "language_info": {
   "codemirror_mode": {
    "name": "ipython",
    "version": 3
   },
   "file_extension": ".py",
   "mimetype": "text/x-python",
   "name": "python",
   "nbconvert_exporter": "python",
   "pygments_lexer": "ipython3",
   "version": "3.7.4"
  }
 },
 "nbformat": 4,
 "nbformat_minor": 2
}
